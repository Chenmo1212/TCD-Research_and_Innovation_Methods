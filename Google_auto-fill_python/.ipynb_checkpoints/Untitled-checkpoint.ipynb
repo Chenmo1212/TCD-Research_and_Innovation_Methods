{
 "cells": [
  {
   "cell_type": "code",
   "execution_count": 70,
   "id": "dd58784d",
   "metadata": {},
   "outputs": [],
   "source": [
    "import numpy as np\n",
    "import random"
   ]
  },
  {
   "cell_type": "code",
   "execution_count": 139,
   "id": "2977d515",
   "metadata": {},
   "outputs": [],
   "source": [
    "curr_total = 34\n",
    "\n",
    "row_radio_data = [\n",
    "    {\n",
    "        \"a\": 1 / curr_total,\n",
    "        \"b\": 2 / curr_total,\n",
    "        \"c\": 19 / curr_total,\n",
    "        \"d\": 9 / curr_total,\n",
    "        \"e\": 0 / curr_total,\n",
    "    }, {\n",
    "        \"a\": 1 / curr_total,\n",
    "        \"b\": 4 / curr_total,\n",
    "        \"c\": 9 / curr_total,\n",
    "        \"d\": 11 / curr_total,\n",
    "        \"e\": 8 / curr_total,\n",
    "    }, {\n",
    "        \"a\": 0 / curr_total,\n",
    "        \"b\": 3 / curr_total,\n",
    "        \"c\": 3 / curr_total,\n",
    "        \"d\": 6 / curr_total,\n",
    "        \"e\": 22 / curr_total,\n",
    "    }, {\n",
    "        \"a\": 7 / curr_total,\n",
    "        \"b\": 12 / curr_total,\n",
    "        \"c\": 4 / curr_total,\n",
    "        \"d\": 7 / curr_total,\n",
    "        \"e\": 4 / curr_total,\n",
    "    }, {\n",
    "        \"a\": 5 / curr_total,\n",
    "        \"b\": 4 / curr_total,\n",
    "        \"c\": 9 / curr_total,\n",
    "        \"d\": 12 / curr_total,\n",
    "        \"e\": 4 / curr_total,\n",
    "    }\n",
    "]\n",
    "\n",
    "col_radio_data = [\n",
    "    {\n",
    "        \"a\": 8.8 / 100,\n",
    "        \"b\": 52.9 / 100,\n",
    "        \"c\": 23.5 / 100,\n",
    "        \"d\": 14.7 / 100\n",
    "    },\n",
    "    {\n",
    "        \"a\": 20.6 / 100,\n",
    "        \"b\": 79.4 / 100\n",
    "    },\n",
    "    {\n",
    "        \"a\": 15.2 / 100,\n",
    "        \"b\": 24.2 / 100,\n",
    "        \"c\": 30.3 / 100,\n",
    "        \"d\": 27.3 / 100,\n",
    "        \"e\": 2.99 / 100,\n",
    "    },\n",
    "    {\n",
    "        \"a\": 70.6 / 100,\n",
    "        \"b\": 79.4 / 100,\n",
    "        \"c\": 5.9 / 100\n",
    "    },\n",
    "    {\n",
    "        \"a\": 17.6 / 100,\n",
    "        \"b\": 29.4 / 100,\n",
    "        \"c\": 64.7 / 100,\n",
    "        \"d\": 17.6 / 100,\n",
    "        \"e\": 29.4 / 100\n",
    "    },\n",
    "    {\n",
    "        \"a\": 67.6 / 100,\n",
    "        \"b\": 23.5 / 100,\n",
    "        \"c\": 8.8 / 100\n",
    "    }\n",
    "]"
   ]
  },
  {
   "cell_type": "code",
   "execution_count": 140,
   "id": "4b2b2b36",
   "metadata": {
    "scrolled": true
   },
   "outputs": [
    {
     "name": "stdout",
     "output_type": "stream",
     "text": [
      "[[2.0, 4.0, 37.0, 17.0, 0.0], [2.0, 8.0, 17.0, 21.0, 16.0], [0.0, 6.0, 6.0, 12.0, 43.0], [14.0, 23.0, 8.0, 14.0, 8.0], [10.0, 8.0, 17.0, 23.0, 8.0]]\n",
      "[[6.0, 35.0, 16.0, 10.0], [14.0, 52.0], [10.0, 16.0, 20.0, 18.0, 2.0], [47.0, 52.0, 4.0], [12.0, 19.0, 43.0, 12.0, 19.0], [45.0, 16.0, 6.0]]\n"
     ]
    }
   ],
   "source": [
    "total = 100\n",
    "need = total - curr_total\n",
    "\n",
    "new_row_data = []\n",
    "for i in row_radio_data:\n",
    "    values = list(i.values())\n",
    "    values = np.array(values)\n",
    "    values = np.rint(values * need)\n",
    "    new_row_data.append(list(values))\n",
    "print(new_row_data)\n",
    "\n",
    "new_col_data = []\n",
    "for i in col_radio_data:\n",
    "    values = list(i.values())\n",
    "    values = np.array(values)\n",
    "    values = np.rint(values * need)\n",
    "    new_col_data.append(list(values))\n",
    "print(new_col_data)"
   ]
  },
  {
   "cell_type": "code",
   "execution_count": 145,
   "id": "1e73b3a3",
   "metadata": {},
   "outputs": [
    {
     "name": "stderr",
     "output_type": "stream",
     "text": [
      "C:\\Users\\chenmo\\AppData\\Local\\Temp\\ipykernel_5064\\2807498180.py:29: VisibleDeprecationWarning: Creating an ndarray from ragged nested sequences (which is a list-or-tuple of lists-or-tuples-or ndarrays with different lengths or shapes) is deprecated. If you meant to do this, you must specify 'dtype=object' when creating the ndarray.\n",
      "  need_data['col'] = list(np.array(need_data['col']).reshape(-1))\n"
     ]
    }
   ],
   "source": [
    "def get_values(need_len):\n",
    "    res = []\n",
    "    \n",
    "    for i in range(need_len):\n",
    "        need_data = {\n",
    "            'row': np.array([]),\n",
    "            'col': np.array([])\n",
    "        }\n",
    "        \n",
    "        for part in new_row_data:\n",
    "            temp = [0]*len(part)\n",
    "            index = random.choices(list(range(len(part))), weights=part)[0]\n",
    "            temp[index] = 1\n",
    "            \n",
    "            np.hstack(need_data['row'], np.array(temp))\n",
    "\n",
    "        for index, part in enumerate(new_col_data):\n",
    "            temp = [0]*len(part)\n",
    "            idx = random.choices(list(range(len(part))), weights=part)[0]\n",
    "            temp[idx] = 1\n",
    "\n",
    "            if index == 4:\n",
    "                new_index = random.choices(list(range(len(part))), weights=part)[0]\n",
    "                temp[new_index] = 1\n",
    "\n",
    "                # need_data['col'].append(temp)\n",
    "                np.hstack(need_data['col'], np.array(temp))\n",
    "            \n",
    "        need_data['row'] = list(need_data['row'])\n",
    "        need_data['col'] = list(need_data['col'])\n",
    "        res.append(need_data)\n",
    "    \n",
    "    return res\n",
    "\n",
    "need_data = []\n",
    "need_data = get_values(need)"
   ]
  },
  {
   "cell_type": "code",
   "execution_count": 144,
   "id": "5314f27e",
   "metadata": {},
   "outputs": [
    {
     "data": {
      "text/plain": [
       "[[0, 0, 0, 1, 0],\n",
       " [0, 0, 0, 1, 0],\n",
       " [0, 0, 0, 1, 0],\n",
       " [0, 0, 1, 0, 0],\n",
       " [1, 0, 0, 0, 0]]"
      ]
     },
     "execution_count": 144,
     "metadata": {},
     "output_type": "execute_result"
    }
   ],
   "source": [
    "a = need_data[0]['row']\n",
    "a"
   ]
  },
  {
   "cell_type": "code",
   "execution_count": 122,
   "id": "5de3ea8b",
   "metadata": {},
   "outputs": [],
   "source": [
    "from selenium import webdriver\n",
    "from selenium.webdriver.chrome.service import Service\n",
    "from webdriver_manager.chrome import ChromeDriverManager\n",
    "from selenium.webdriver.common.by import By\n",
    "\n",
    "option = webdriver.ChromeOptions()\n",
    "option.add_experimental_option(\"detach\", True)"
   ]
  },
  {
   "cell_type": "code",
   "execution_count": null,
   "id": "d1ecc8a3",
   "metadata": {},
   "outputs": [],
   "source": [
    "s = Service(ChromeDriverManager().install())\n",
    "driver = webdriver.Chrome(service=s, options=option)\n",
    "driver.maximize_window()\n",
    "driver.get('https://forms.gle/b9SvcgtfmzMwA4o76')"
   ]
  }
 ],
 "metadata": {
  "kernelspec": {
   "display_name": "Python 3 (ipykernel)",
   "language": "python",
   "name": "python3"
  },
  "language_info": {
   "codemirror_mode": {
    "name": "ipython",
    "version": 3
   },
   "file_extension": ".py",
   "mimetype": "text/x-python",
   "name": "python",
   "nbconvert_exporter": "python",
   "pygments_lexer": "ipython3",
   "version": "3.9.12"
  }
 },
 "nbformat": 4,
 "nbformat_minor": 5
}
